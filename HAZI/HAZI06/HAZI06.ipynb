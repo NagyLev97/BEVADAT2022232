{
 "cells": [
  {
   "cell_type": "code",
   "execution_count": 76,
   "metadata": {},
   "outputs": [],
   "source": [
    "import pandas as pd\n",
    "from datetime import datetime\n",
    "\n",
    "class NJCleaner:\n",
    "\n",
    "    def __init__(self, csv_path:str):\n",
    "        df = pd.read_csv(csv_path)\n",
    "        self.data = df\n",
    "\n",
    "    def order_by_scheduled_time(self) -> pd.DataFrame:\n",
    "        self.data = self.data.sort_values(by=['scheduled_time'])\n",
    "        return self.data\n",
    "    \n",
    "    def drop_columns_and_nan(self) -> pd.DataFrame:\n",
    "        self.data = self.data.drop(['from', 'to'], axis=1)\n",
    "        self.data = self.data.dropna()\n",
    "        return self.data\n",
    "\n",
    "    def convert_date_to_day(self) -> pd.DataFrame:\n",
    "        self.data['date'] = pd.to_datetime(self.data['date'])\n",
    "        self.data['day'] = self.data['date'].dt.day_name()\n",
    "        self.data = self.data.drop(['date'], axis=1)\n",
    "        return self.data\n",
    "    \n",
    "    def convert_scheduled_time_to_part_of_the_day(self) -> pd.DataFrame:\n",
    "        df = pd.DatetimeIndex(self.data['scheduled_time']).hour\n",
    "        self.data['part_of_the_day'] = pd.cut(df, bins=[-1, 3, 7, 11, 15, 19, 24], \n",
    "                                              labels=[ 'late_night', 'early_morning', 'morning', 'afternoon', 'evening', 'night']) \n",
    "        self.data.drop(columns=['scheduled_time'], inplace=True) \n",
    "        return self.data\n",
    "\n",
    "    def convert_delay(self) -> pd.DataFrame:\n",
    "        max = self.data['delay_minutes'].astype('float').max()\n",
    "        self.data['delay'] = pd.cut(self.data['delay_minutes'].astype('float'), bins=[-1, 5, max], labels=['0', '1'])\n",
    "        return self.data\n",
    "\n",
    "    \n",
    "    def drop_unnecessary_columns(self) -> pd.DataFrame:\n",
    "        self.data.drop(['train_id', 'actual_time', 'delay_minutes'], axis=1, inplace=True)\n",
    "        return self.data\n",
    "    \n",
    "    def save_first_60k(self, path:str):\n",
    "        cutted_df = self.data.head(60000)\n",
    "        cutted_df.to_csv(path, index=False)\n",
    "\n",
    "    def prep_df(self, path:str='data/NJ.csv'):\n",
    "        self.order_by_scheduled_time()\n",
    "        self.drop_columns_and_nan()\n",
    "        self.convert_date_to_day()\n",
    "        self.convert_scheduled_time_to_part_of_the_day()\n",
    "        self.convert_delay()\n",
    "        self.drop_unnecessary_columns()\n",
    "        self.save_first_60k(path)"
   ]
  },
  {
   "cell_type": "code",
   "execution_count": null,
   "metadata": {},
   "outputs": [],
   "source": [
    "nj_cleaner = NJCleaner(\"2018_03.csv\")\n",
    "ordered_df = nj_cleaner.data\n",
    "ordered_df = nj_cleaner.order_by_scheduled_time()\n",
    "ordered_df"
   ]
  },
  {
   "cell_type": "code",
   "execution_count": null,
   "metadata": {},
   "outputs": [],
   "source": [
    "dropped_df = nj_cleaner.drop_columns_and_nan()\n",
    "dropped_df"
   ]
  },
  {
   "cell_type": "code",
   "execution_count": null,
   "metadata": {},
   "outputs": [],
   "source": [
    "day_df = nj_cleaner.convert_date_to_day()\n",
    "day_df"
   ]
  },
  {
   "cell_type": "code",
   "execution_count": null,
   "metadata": {},
   "outputs": [],
   "source": [
    "part_of_the_day_df = nj_cleaner.convert_scheduled_time_to_part_of_the_day()\n",
    "part_of_the_day_df"
   ]
  },
  {
   "cell_type": "code",
   "execution_count": null,
   "metadata": {},
   "outputs": [],
   "source": [
    "delay_df = nj_cleaner.convert_delay()\n",
    "delay_df"
   ]
  },
  {
   "cell_type": "code",
   "execution_count": null,
   "metadata": {},
   "outputs": [],
   "source": [
    "unnec_df = nj_cleaner.drop_unnecessary_columns()\n",
    "unnec_df"
   ]
  },
  {
   "cell_type": "code",
   "execution_count": null,
   "metadata": {},
   "outputs": [],
   "source": [
    "print(unnec_df['part_of_the_day'])"
   ]
  },
  {
   "cell_type": "code",
   "execution_count": 77,
   "metadata": {},
   "outputs": [],
   "source": [
    "head_df = nj_cleaner.save_first_60k('data/NJ.csv')"
   ]
  },
  {
   "cell_type": "code",
   "execution_count": 71,
   "metadata": {},
   "outputs": [],
   "source": [
    "njcleaner = NJCleaner(\"2018_03.csv\")\n",
    "njcleaner.prep_df()"
   ]
  },
  {
   "cell_type": "code",
   "execution_count": 62,
   "metadata": {},
   "outputs": [
    {
     "data": {
      "text/html": [
       "<div>\n",
       "<style scoped>\n",
       "    .dataframe tbody tr th:only-of-type {\n",
       "        vertical-align: middle;\n",
       "    }\n",
       "\n",
       "    .dataframe tbody tr th {\n",
       "        vertical-align: top;\n",
       "    }\n",
       "\n",
       "    .dataframe thead th {\n",
       "        text-align: right;\n",
       "    }\n",
       "</style>\n",
       "<table border=\"1\" class=\"dataframe\">\n",
       "  <thead>\n",
       "    <tr style=\"text-align: right;\">\n",
       "      <th></th>\n",
       "      <th>stop_sequence</th>\n",
       "      <th>from_id</th>\n",
       "      <th>to_id</th>\n",
       "      <th>status</th>\n",
       "      <th>line</th>\n",
       "      <th>type</th>\n",
       "      <th>day</th>\n",
       "      <th>part_of_the_day</th>\n",
       "    </tr>\n",
       "  </thead>\n",
       "  <tbody>\n",
       "    <tr>\n",
       "      <th>58548</th>\n",
       "      <td>14.0</td>\n",
       "      <td>145</td>\n",
       "      <td>81</td>\n",
       "      <td>cancelled</td>\n",
       "      <td>Gladstone Branch</td>\n",
       "      <td>NJ Transit</td>\n",
       "      <td>Thursday</td>\n",
       "      <td>morning</td>\n",
       "    </tr>\n",
       "  </tbody>\n",
       "</table>\n",
       "</div>"
      ],
      "text/plain": [
       "       stop_sequence  from_id  to_id     status              line        type  \\\n",
       "58548           14.0      145     81  cancelled  Gladstone Branch  NJ Transit   \n",
       "\n",
       "            day part_of_the_day  \n",
       "58548  Thursday         morning  "
      ]
     },
     "execution_count": 62,
     "metadata": {},
     "output_type": "execute_result"
    }
   ],
   "source": [
    "unnec_df.loc[[58548]]"
   ]
  },
  {
   "cell_type": "code",
   "execution_count": 69,
   "metadata": {},
   "outputs": [
    {
     "data": {
      "text/plain": [
       "Int64Index([1, 2, 3, 4, 0], dtype='int64', name='date')"
      ]
     },
     "execution_count": 69,
     "metadata": {},
     "output_type": "execute_result"
    }
   ],
   "source": [
    "df = pd.read_csv('test.csv')\n",
    "df\n",
    "nondf = pd.DatetimeIndex(df['date']).hour\n",
    "nondf"
   ]
  },
  {
   "cell_type": "code",
   "execution_count": null,
   "metadata": {},
   "outputs": [],
   "source": []
  }
 ],
 "metadata": {
  "kernelspec": {
   "display_name": "Python 3",
   "language": "python",
   "name": "python3"
  },
  "language_info": {
   "codemirror_mode": {
    "name": "ipython",
    "version": 3
   },
   "file_extension": ".py",
   "mimetype": "text/x-python",
   "name": "python",
   "nbconvert_exporter": "python",
   "pygments_lexer": "ipython3",
   "version": "3.10.11"
  },
  "orig_nbformat": 4
 },
 "nbformat": 4,
 "nbformat_minor": 2
}
