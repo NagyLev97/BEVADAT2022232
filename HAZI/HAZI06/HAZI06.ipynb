{
 "cells": [
  {
   "cell_type": "code",
   "execution_count": null,
   "metadata": {},
   "outputs": [],
   "source": [
    "import pandas as pd\n",
    "from datetime import datetime\n",
    "\n",
    "class NJCleaner:\n",
    "\n",
    "    def __init__(self, csv_path:str):\n",
    "        df = pd.read_csv(csv_path)\n",
    "        self.data = df\n",
    "\n",
    "    def order_by_scheduled_time(self) -> pd.DataFrame:\n",
    "        self.data = self.data.sort_values(by=['scheduled_time'])\n",
    "        return self.data\n",
    "    \n",
    "    def drop_columns_and_nan(self) -> pd.DataFrame:\n",
    "        self.data = self.data.drop(['from', 'to'], axis=1)\n",
    "        self.data = self.data.dropna()\n",
    "        return self.data\n",
    "\n",
    "    def convert_date_to_day(self) -> pd.DataFrame:\n",
    "        self.data['date'] = pd.to_datetime(self.data['date'])\n",
    "        self.data['day'] = self.data['date'].dt.day_name()\n",
    "        self.data = self.data.drop(['date'], axis=1)\n",
    "        return self.data\n",
    "    \n",
    "    def convert_scheduled_time_to_part_of_the_day(self) -> pd.DataFrame:\n",
    "        df = pd.DatetimeIndex(self.data['scheduled_time']).hour\n",
    "        self.data['part_of_the_day'] = pd.cut(df, bins=[-1, 3, 7, 11, 15, 19, 24], \n",
    "                                              labels=[ 'late_night', 'early_morning', 'morning', 'afternoon', 'evening', 'night']) \n",
    "        self.data.drop(columns=['scheduled_time'], inplace=True) \n",
    "        return self.data\n",
    "\n",
    "    def convert_delay(self) -> pd.DataFrame:\n",
    "        max = self.data['delay_minutes'].astype('float').max()\n",
    "        self.data['delay'] = pd.cut(self.data['delay_minutes'].astype('float'), bins=[-1, 4.999, max], labels=[0, 1])\n",
    "        return self.data\n",
    "\n",
    "    \n",
    "    def drop_unnecessary_columns(self) -> pd.DataFrame:\n",
    "        self.data.drop(['train_id', 'actual_time', 'delay_minutes'], axis=1, inplace=True)\n",
    "        return self.data\n",
    "    \n",
    "    def save_first_60k(self, path:str):\n",
    "        cutted_df = self.data.head(60000)\n",
    "        cutted_df.to_csv(path, index=False)\n",
    "\n",
    "    def prep_df(self, path:str='data/NJ.csv'):\n",
    "        self.order_by_scheduled_time()\n",
    "        self.drop_columns_and_nan()\n",
    "        self.convert_date_to_day()\n",
    "        self.convert_scheduled_time_to_part_of_the_day()\n",
    "        self.convert_delay()\n",
    "        self.drop_unnecessary_columns()\n",
    "        self.save_first_60k(path)"
   ]
  },
  {
   "cell_type": "code",
   "execution_count": null,
   "metadata": {},
   "outputs": [],
   "source": [
    "nj_cleaner = NJCleaner(\"2018_03.csv\")\n",
    "ordered_df = nj_cleaner.data\n",
    "ordered_df = nj_cleaner.order_by_scheduled_time()\n",
    "ordered_df"
   ]
  },
  {
   "cell_type": "code",
   "execution_count": null,
   "metadata": {},
   "outputs": [],
   "source": [
    "dropped_df = nj_cleaner.drop_columns_and_nan()\n",
    "dropped_df"
   ]
  },
  {
   "cell_type": "code",
   "execution_count": null,
   "metadata": {},
   "outputs": [],
   "source": [
    "day_df = nj_cleaner.convert_date_to_day()\n",
    "day_df"
   ]
  },
  {
   "cell_type": "code",
   "execution_count": null,
   "metadata": {},
   "outputs": [],
   "source": [
    "part_of_the_day_df = nj_cleaner.convert_scheduled_time_to_part_of_the_day()\n",
    "part_of_the_day_df"
   ]
  },
  {
   "cell_type": "code",
   "execution_count": null,
   "metadata": {},
   "outputs": [],
   "source": [
    "delay_df = nj_cleaner.convert_delay()\n",
    "delay_df"
   ]
  },
  {
   "cell_type": "code",
   "execution_count": null,
   "metadata": {},
   "outputs": [],
   "source": [
    "unnec_df = nj_cleaner.drop_unnecessary_columns()\n",
    "unnec_df"
   ]
  },
  {
   "cell_type": "code",
   "execution_count": null,
   "metadata": {},
   "outputs": [],
   "source": [
    "head_df = nj_cleaner.save_first_60k('data/NJ.csv')"
   ]
  },
  {
   "cell_type": "code",
   "execution_count": null,
   "metadata": {},
   "outputs": [],
   "source": [
    "njcleaner = NJCleaner(\"2018_03.csv\")\n",
    "njcleaner.prep_df()"
   ]
  }
 ],
 "metadata": {
  "kernelspec": {
   "display_name": "Python 3",
   "language": "python",
   "name": "python3"
  },
  "language_info": {
   "codemirror_mode": {
    "name": "ipython",
    "version": 3
   },
   "file_extension": ".py",
   "mimetype": "text/x-python",
   "name": "python",
   "nbconvert_exporter": "python",
   "pygments_lexer": "ipython3",
   "version": "3.10.11"
  },
  "orig_nbformat": 4
 },
 "nbformat": 4,
 "nbformat_minor": 2
}
