{
 "cells": [
  {
   "cell_type": "code",
   "execution_count": null,
   "metadata": {},
   "outputs": [],
   "source": [
    "\n",
    "import numpy as np\n",
    "import pandas as pd\n",
    "from scipy.stats import mode \n",
    "from typing import Tuple\n",
    "\n",
    "from sklearn.metrics import confusion_matrix\n",
    "import seaborn as sns\n",
    "\n",
    "csv_path = \"diabetes.csv\""
   ]
  },
  {
   "attachments": {},
   "cell_type": "markdown",
   "metadata": {},
   "source": [
    "Load csv"
   ]
  },
  {
   "cell_type": "code",
   "execution_count": null,
   "metadata": {},
   "outputs": [],
   "source": [
    "def load_csv(csv_path:str):\n",
    "    df = pd.read_csv(csv_path)\n",
    "    df = df.sample(frac=1, random_state=42).reset_index(drop=True)\n",
    "    x,y = df.iloc[:,:-1], df.iloc[:,-1]\n",
    "    return x,y"
   ]
  },
  {
   "cell_type": "code",
   "execution_count": null,
   "metadata": {},
   "outputs": [],
   "source": [
    "x,y = load_csv(csv_path)\n",
    "x,y"
   ]
  },
  {
   "cell_type": "code",
   "execution_count": null,
   "metadata": {},
   "outputs": [],
   "source": [
    "np.mean(x, axis=0), np.var(x, axis=0)"
   ]
  },
  {
   "cell_type": "code",
   "execution_count": null,
   "metadata": {},
   "outputs": [],
   "source": [
    "np.nanmean(x, axis=0), np.nanvar(x, axis=0)"
   ]
  },
  {
   "cell_type": "code",
   "execution_count": null,
   "metadata": {},
   "outputs": [],
   "source": [
    "x.shape"
   ]
  },
  {
   "cell_type": "code",
   "execution_count": null,
   "metadata": {},
   "outputs": [],
   "source": [
    "(x < 0.0).sum()"
   ]
  },
  {
   "attachments": {},
   "cell_type": "markdown",
   "metadata": {},
   "source": [
    "Train test split"
   ]
  },
  {
   "cell_type": "code",
   "execution_count": null,
   "metadata": {},
   "outputs": [],
   "source": [
    "def train_test_split(features:pd.DataFrame, labels:pd.DataFrame, test_split_ratio:float):\n",
    "    test_size = int(len(features) * test_split_ratio)\n",
    "    train_size = len(features) - test_size\n",
    "    assert len(features) == test_size + train_size, \"Size mismatch!\"\n",
    "\n",
    "    x_train, y_train = features.iloc[:train_size, :], labels.iloc[:train_size]\n",
    "    x_test, y_test = features.iloc[train_size:, :], labels.iloc[train_size:]\n",
    "    return (x_train.reset_index(drop=True),y_train.reset_index(drop=True),x_test.reset_index(drop=True),y_test.reset_index(drop=True))"
   ]
  },
  {
   "cell_type": "code",
   "execution_count": null,
   "metadata": {},
   "outputs": [],
   "source": [
    "x_train, y_train, x_test, y_test = train_test_split(x, y, 0.2)"
   ]
  },
  {
   "cell_type": "code",
   "execution_count": null,
   "metadata": {},
   "outputs": [],
   "source": [
    "def euclidean(points:pd.DataFrame, element_of_x:pd.Series) -> pd.Series:\n",
    "    return ((points - element_of_x)**2).sum(axis=1)**(1/2)"
   ]
  },
  {
   "cell_type": "code",
   "execution_count": null,
   "metadata": {},
   "outputs": [],
   "source": [
    "euclidean(x_train, x_test.iloc[0])"
   ]
  },
  {
   "cell_type": "code",
   "execution_count": null,
   "metadata": {},
   "outputs": [],
   "source": [
    "def predict(x_train:pd.DataFrame, y_train:pd.DataFrame, x_test:pd.DataFrame, k:int) -> pd.DataFrame:\n",
    "    labels_pred = []\n",
    "    for idx, x_test_element in x_test.iterrows():\n",
    "        #távolságok meghatározása\n",
    "        distances = euclidean(x_train, x_test_element)\n",
    "        distances = pd.DataFrame({'distances': distances, 'labels': y_train})\n",
    "        distances.sort_values(by='distances', inplace=True)\n",
    "\n",
    "        #leggyakoribb labelt kiszedjük\n",
    "        label_pred = mode(distances.iloc[:k,1], axis=0).mode[0]\n",
    "\n",
    "        labels_pred.append(label_pred)\n",
    "    return pd.Series(labels_pred)\n"
   ]
  },
  {
   "cell_type": "code",
   "execution_count": null,
   "metadata": {},
   "outputs": [],
   "source": [
    "y_preds = predict(x_train, y_train, y_test, 2)"
   ]
  },
  {
   "cell_type": "code",
   "execution_count": null,
   "metadata": {},
   "outputs": [],
   "source": [
    "def accuracy(y_test:pd.Series, y_preds:pd.Series) -> float:\n",
    "    true_positive = (y_test == y_preds).sum()\n",
    "    return true_positive / len(y_test) * 100"
   ]
  },
  {
   "cell_type": "code",
   "execution_count": null,
   "metadata": {},
   "outputs": [],
   "source": [
    "accuracy(y_test, y_preds)"
   ]
  },
  {
   "cell_type": "code",
   "execution_count": null,
   "metadata": {},
   "outputs": [],
   "source": [
    "def plot_confusion_matrix(y_test:pd.DataFrame, y_preds:pd.DataFrame) -> None:\n",
    "    conf_matrix = confusion_matrix(y_test, y_preds)\n",
    "    sns.heatmap(conf_matrix, annot=True)\n",
    "    return confusion_matrix"
   ]
  },
  {
   "cell_type": "code",
   "execution_count": null,
   "metadata": {},
   "outputs": [],
   "source": [
    "plot_confusion_matrix(y_test, y_preds)"
   ]
  },
  {
   "cell_type": "code",
   "execution_count": null,
   "metadata": {},
   "outputs": [],
   "source": [
    "def best_k() -> Tuple[int, float]:\n",
    "        accuracy = 0\n",
    "        idx = -1\n",
    "        for i in range(1, 21):\n",
    "            k = i\n",
    "            predict(x_train, y_train, x_test, k)\n",
    "            new_accuracy = accuracy()\n",
    "            if new_accuracy > accuracy:\n",
    "                accuracy = new_accuracy\n",
    "                idx = i\n",
    "        return (idx, round(accuracy, 2)) "
   ]
  },
  {
   "cell_type": "code",
   "execution_count": null,
   "metadata": {},
   "outputs": [],
   "source": [
    "a,b = best_k()"
   ]
  },
  {
   "cell_type": "code",
   "execution_count": null,
   "metadata": {},
   "outputs": [],
   "source": []
  }
 ],
 "metadata": {
  "kernelspec": {
   "display_name": "Python 3",
   "language": "python",
   "name": "python3"
  },
  "language_info": {
   "codemirror_mode": {
    "name": "ipython",
    "version": 3
   },
   "file_extension": ".py",
   "mimetype": "text/x-python",
   "name": "python",
   "nbconvert_exporter": "python",
   "pygments_lexer": "ipython3",
   "version": "3.10.10"
  },
  "orig_nbformat": 4,
  "vscode": {
   "interpreter": {
    "hash": "c3a75924e1266b45e7b56f9a5159d0a17e25d8d5367545a448030b90389091bb"
   }
  }
 },
 "nbformat": 4,
 "nbformat_minor": 2
}
