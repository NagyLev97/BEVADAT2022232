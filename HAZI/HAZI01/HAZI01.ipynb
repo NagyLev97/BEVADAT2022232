{
 "cells": [
  {
   "cell_type": "code",
   "execution_count": null,
   "metadata": {},
   "outputs": [],
   "source": [
    "#Create a function that returns with a subsest of a list.\n",
    "#The subset's starting and ending indexes should be set as input parameters (the list aswell).\n",
    "#return type: list\n",
    "#function name must be: subset\n",
    "#input parameters: input_list,start_index,end_index"
   ]
  },
  {
   "cell_type": "code",
   "execution_count": 4,
   "metadata": {
    "tags": []
   },
   "outputs": [
    {
     "name": "stdout",
     "output_type": "stream",
     "text": [
      "[]\n",
      "[4, 5, 6, 7]\n"
     ]
    }
   ],
   "source": [
    "def subset(input_list, start_index, end_index):\n",
    "    return input_list[start_index:(end_index)]\n",
    "list = [0,1,2,3,4,5,6,7,8,9]\n",
    "\n",
    "print(subset(list, 0, 4))\n",
    "print(subset(list, 4, 8))"
   ]
  },
  {
   "cell_type": "code",
   "execution_count": null,
   "metadata": {},
   "outputs": [],
   "source": [
    "#Create a function that returns every nth element of a list.\n",
    "#return type: list\n",
    "#function name must be: every_nth\n",
    "#input parameters: input_list,step_size"
   ]
  },
  {
   "cell_type": "code",
   "execution_count": 12,
   "metadata": {},
   "outputs": [
    {
     "name": "stdout",
     "output_type": "stream",
     "text": [
      "[0, 2, 4, 6, 8]\n",
      "[0, 1, 2, 3, 4, 5, 6, 7, 8, 9]\n",
      "10\n"
     ]
    }
   ],
   "source": [
    "def every_nth(input_list, step_size):\n",
    "    return input_list[::step_size]\n",
    "\n",
    "list = [0,1,2,3,4,5,6,7,8,9]\n",
    "\n",
    "print(every_nth(list, 2))\n",
    "print(every_nth(list, 1))"
   ]
  },
  {
   "cell_type": "code",
   "execution_count": null,
   "metadata": {},
   "outputs": [],
   "source": [
    "#Create a function that can decide whether a list contains unique values or not\n",
    "#return type: bool\n",
    "#function name must be: unique\n",
    "#input parameters: input_list"
   ]
  },
  {
   "cell_type": "code",
   "execution_count": 30,
   "metadata": {
    "tags": []
   },
   "outputs": [
    {
     "name": "stdout",
     "output_type": "stream",
     "text": [
      "False\n",
      "True\n"
     ]
    }
   ],
   "source": [
    "def unique(input_list):\n",
    "    index = 0\n",
    "    inindex = 0\n",
    "    result = True\n",
    "    while index < len(input_list):\n",
    "        while inindex < len(input_list):\n",
    "            if index == inindex:\n",
    "                inindex += 1\n",
    "                if inindex == len(input_list):\n",
    "                    break\n",
    "            if list[index] == list[inindex]:\n",
    "                result = False\n",
    "                return result\n",
    "            inindex += 1\n",
    "        inindex = 0\n",
    "        index += 1\n",
    "    return result\n",
    "\n",
    "list = [0,1,2,2]\n",
    "print(unique(list))\n",
    "list = [0,1,2,3]\n",
    "print(unique(list))"
   ]
  },
  {
   "cell_type": "code",
   "execution_count": 1,
   "metadata": {
    "tags": []
   },
   "outputs": [
    {
     "name": "stdout",
     "output_type": "stream",
     "text": [
      "False\n",
      "True\n"
     ]
    }
   ],
   "source": [
    "def unique(input_list):\n",
    "    set_list = set(input_list)\n",
    "    if len(set_list) == len(input_list):\n",
    "        return True\n",
    "    else:\n",
    "        return False\n",
    "    \n",
    "list = [0,1,2,2]\n",
    "print(unique(list))\n",
    "list = [0,1,2,3]\n",
    "print(unique(list))"
   ]
  },
  {
   "cell_type": "code",
   "execution_count": null,
   "metadata": {},
   "outputs": [],
   "source": [
    "#Create a function that can flatten a nested list ([[..],[..],..])\n",
    "#return type: list\n",
    "#fucntion name must be: flatten\n",
    "#input parameters: input_list"
   ]
  },
  {
   "cell_type": "code",
   "execution_count": 6,
   "metadata": {},
   "outputs": [
    {
     "name": "stdout",
     "output_type": "stream",
     "text": [
      "[1, 2, 3, 4, 5, 6, 7, 8, 9]\n"
     ]
    }
   ],
   "source": [
    "def flatten(input_list):\n",
    "    flatten_list = []\n",
    "    for item in input_list:\n",
    "        for element in item:\n",
    "            flatten_list.append(element)\n",
    "    return flatten_list\n",
    "\n",
    "list = [[1,2,3],[4,5],[6],[7,8,9]]\n",
    "print(flatten(list))"
   ]
  },
  {
   "cell_type": "code",
   "execution_count": null,
   "metadata": {},
   "outputs": [],
   "source": [
    "#Create a function that concatenates n lists\n",
    "#return type: list\n",
    "#function name must be: merge_lists\n",
    "#input parameters: *args\n"
   ]
  },
  {
   "cell_type": "code",
   "execution_count": 8,
   "metadata": {},
   "outputs": [
    {
     "name": "stdout",
     "output_type": "stream",
     "text": [
      "[1, 2, 3, 4, 5, 6, 7, 8, 9]\n"
     ]
    }
   ],
   "source": [
    "def merge_lists(*args):\n",
    "    merge_list = [element for list in args for element in list]\n",
    "    return merge_list\n",
    "\n",
    "list1 = [1, 2, 3]\n",
    "list2 = [4, 5, 6]\n",
    "list3 = [7, 8, 9]\n",
    "merge_list = merge_lists(list1, list2, list3)\n",
    "print(merge_list)"
   ]
  },
  {
   "cell_type": "code",
   "execution_count": null,
   "metadata": {},
   "outputs": [],
   "source": [
    "#Create a function that can reverse a list of tuples\n",
    "#example [(1,2),...] => [(2,1),...]\n",
    "#return type: list\n",
    "#fucntion name must be: reverse_tuples\n",
    "#input parameters: input_list"
   ]
  },
  {
   "cell_type": "code",
   "execution_count": 17,
   "metadata": {},
   "outputs": [
    {
     "name": "stdout",
     "output_type": "stream",
     "text": [
      "[(2, 1), (4, 3), (6, 5)]\n"
     ]
    }
   ],
   "source": [
    "def reverse_tuples(input_list):\n",
    "    reversed_list = []\n",
    "    for item in input_list:\n",
    "        new_list = item[::-1]\n",
    "        reversed_element = tuple(new_list)\n",
    "        reversed_list.append(reversed_element)\n",
    "    return reversed_list\n",
    "    \n",
    "list = [(1, 2), (3, 4), (5, 6)]\n",
    "reversed_list = reverse_tuples(list)\n",
    "print(reversed_list)"
   ]
  },
  {
   "cell_type": "code",
   "execution_count": null,
   "metadata": {},
   "outputs": [],
   "source": [
    "#Create a function that removes duplicates from a list\n",
    "#return type: list\n",
    "#fucntion name must be: remove_tuplicates\n",
    "#input parameters: input_list"
   ]
  },
  {
   "cell_type": "code",
   "execution_count": 18,
   "metadata": {},
   "outputs": [
    {
     "name": "stdout",
     "output_type": "stream",
     "text": [
      "{1, 2, 4, 5}\n"
     ]
    }
   ],
   "source": [
    "def remove_tuplicates(input_list):\n",
    "    return set(input_list)\n",
    "\n",
    "list = [1, 4, 2, 2, 5, 1]\n",
    "print(remove_tuplicates(list))"
   ]
  },
  {
   "cell_type": "code",
   "execution_count": null,
   "metadata": {},
   "outputs": [],
   "source": [
    "#Create a function that transposes a nested list (matrix)\n",
    "#return type: list\n",
    "#function name must be: transpose\n",
    "#input parameters: input_list"
   ]
  },
  {
   "cell_type": "code",
   "execution_count": 37,
   "metadata": {},
   "outputs": [
    {
     "name": "stdout",
     "output_type": "stream",
     "text": [
      "[[1, 3], [2, 4]]\n"
     ]
    }
   ],
   "source": [
    "def transpose(input_list):\n",
    "    return [[input_list[j][i] for j in range(len(input_list))] for i in range(len(input_list[0]))]\n",
    "\n",
    "matrix = [[1, 2], [3, 4]]\n",
    "new_matrix = transpose(matrix)\n",
    "print(new_matrix)"
   ]
  },
  {
   "cell_type": "code",
   "execution_count": null,
   "metadata": {},
   "outputs": [],
   "source": [
    "#Create a function that can split a nested list into chunks\n",
    "#chunk size is given by parameter\n",
    "#return type: list\n",
    "#function name must be: split_into_chunks\n",
    "#input parameters: input_list,chunk_size"
   ]
  },
  {
   "cell_type": "code",
   "execution_count": 5,
   "metadata": {},
   "outputs": [
    {
     "name": "stdout",
     "output_type": "stream",
     "text": [
      "[[1, 2], [3, 4], [5, 6], [7, 8], [9, 10], [11]]\n"
     ]
    }
   ],
   "source": [
    "def split_into_chunks(input_list, chunk_size):\n",
    "    flatten_list = []\n",
    "    for item in input_list:\n",
    "        for element in item:\n",
    "            flatten_list.append(element)\n",
    "\n",
    "    new_list = []\n",
    "    for i in range(0, len(flatten_list), chunk_size):\n",
    "        t = i\n",
    "        new_list.append(flatten_list[t:t+chunk_size])\n",
    "    return new_list\n",
    "\n",
    "nested_list = [[1, 2, 3], [4, 5], [6, 7], [8, 9, 10, 11]]\n",
    "splitted_list = split_into_chunks(nested_list, 2)\n",
    "print(splitted_list)\n"
   ]
  },
  {
   "cell_type": "code",
   "execution_count": null,
   "metadata": {},
   "outputs": [],
   "source": [
    "#Create a function that can merge n dictionaries\n",
    "#return type: dictionary\n",
    "#function name must be: merge_dicts\n",
    "#input parameters: *dict"
   ]
  },
  {
   "cell_type": "code",
   "execution_count": 46,
   "metadata": {},
   "outputs": [
    {
     "name": "stdout",
     "output_type": "stream",
     "text": [
      "{'one': 1, 'two': 2, 'three': 3, 'four': 4, 'six': 6, 'five': 5, 'eight': 8, 'nine': 9, 'eleven': 11, 'ten': 10}\n"
     ]
    }
   ],
   "source": [
    "def merge_dicts(*dict):\n",
    "    merged_dict = {}\n",
    "    for d in dict:\n",
    "        merged_dict.update(d)\n",
    "\n",
    "    return merged_dict\n",
    "\n",
    "dict1 = {'one': 1, 'two' : 2}\n",
    "dict2 = {'three': 3, 'four' : 4, 'six' : 6}\n",
    "dict3 = {'five': 5, 'eight' : 8}\n",
    "dict4 = {'nine': 9, 'eleven' : 11, 'ten' : 10}\n",
    "merged_dict = merge_dicts(dict1, dict2, dict3, dict4)\n",
    "print(merged_dict)"
   ]
  },
  {
   "cell_type": "code",
   "execution_count": null,
   "metadata": {},
   "outputs": [],
   "source": [
    "#Create a function that receives a list of integers and sort them by parity\n",
    "#and returns with a dictionary like this: {\"even\":[...],\"odd\":[...]}\n",
    "#return type: dict\n",
    "#function name must be: by_parity\n",
    "#input parameters: input_list"
   ]
  },
  {
   "cell_type": "code",
   "execution_count": 48,
   "metadata": {},
   "outputs": [
    {
     "name": "stdout",
     "output_type": "stream",
     "text": [
      "{'even': [2, 4, 6, 8, 10], 'odd': [1, 3, 5, 7, 9]}\n"
     ]
    }
   ],
   "source": [
    "def by_parity(input_list):\n",
    "    even_list = []\n",
    "    odd_list = []\n",
    "    for element in input_list:\n",
    "        if element % 2 == 0:\n",
    "            even_list.append(element)\n",
    "        else:\n",
    "            odd_list.append(element)\n",
    "    new_dict = {'even' : even_list, 'odd' : odd_list}\n",
    "    return new_dict\n",
    "\n",
    "list = [1, 2, 3, 4, 5, 6, 7, 8, 9, 10]\n",
    "parity_dict = by_parity(list)\n",
    "print(parity_dict)"
   ]
  },
  {
   "cell_type": "code",
   "execution_count": null,
   "metadata": {},
   "outputs": [],
   "source": [
    "#Create a function that receives a dictionary like this: {\"some_key\":[1,2,3,4],\"another_key\":[1,2,3,4],....}\n",
    "#and return a dictionary like this : {\"some_key\":mean_of_values,\"another_key\":mean_of_values,....}\n",
    "#in short calculates the mean of the values key wise\n",
    "#return type: dict\n",
    "#function name must be: mean_key_value\n",
    "#input parameters: input_dict"
   ]
  },
  {
   "cell_type": "code",
   "execution_count": 51,
   "metadata": {},
   "outputs": [
    {
     "name": "stdout",
     "output_type": "stream",
     "text": [
      "{'first_key': 2.0, 'second_key': 5.0, 'third_key': 4.0}\n"
     ]
    }
   ],
   "source": [
    "def mean_key_value(input_dict):\n",
    "    mean_dict = {}\n",
    "    for key, value in input_dict.items():\n",
    "        mean_value = sum(value) / len(value)\n",
    "        mean_dict[key] = mean_value\n",
    "    return mean_dict\n",
    "\n",
    "dict = {'first_key' : [1,2,3], 'second_key' : [5], 'third_key' : [2, 4, 6]}\n",
    "mean_dict = mean_key_value(dict)\n",
    "print(mean_dict)"
   ]
  },
  {
   "cell_type": "code",
   "execution_count": null,
   "metadata": {},
   "outputs": [],
   "source": [
    "#If all the functions are created convert this notebook into a .py file and push to your repo"
   ]
  }
 ],
 "metadata": {
  "kernelspec": {
   "display_name": "Python 3 (ipykernel)",
   "language": "python",
   "name": "python3"
  },
  "language_info": {
   "codemirror_mode": {
    "name": "ipython",
    "version": 3
   },
   "file_extension": ".py",
   "mimetype": "text/x-python",
   "name": "python",
   "nbconvert_exporter": "python",
   "pygments_lexer": "ipython3",
   "version": "3.10.10"
  },
  "vscode": {
   "interpreter": {
    "hash": "916dbcbb3f70747c44a77c7bcd40155683ae19c65e1c03b4aa3499c5328201f1"
   }
  }
 },
 "nbformat": 4,
 "nbformat_minor": 4
}
