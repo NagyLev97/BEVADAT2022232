{
 "cells": [
  {
   "cell_type": "code",
   "execution_count": null,
   "metadata": {},
   "outputs": [],
   "source": [
    "#Create a function that decides if a list contains any odd numbers.\n",
    "#return type: bool\n",
    "#function name must be: contains_odd\n",
    "#input parameters: input_list"
   ]
  },
  {
   "cell_type": "code",
   "execution_count": 7,
   "metadata": {},
   "outputs": [
    {
     "name": "stdout",
     "output_type": "stream",
     "text": [
      "False\n",
      "True\n",
      "True\n"
     ]
    }
   ],
   "source": [
    "def contains_odd(input_list):\n",
    "    index = 0\n",
    "    while  index < len(input_list) and input_list[index] % 2 == 0:\n",
    "        if index == len(input_list) - 1:\n",
    "            if input_list[index] % 2 == 1:\n",
    "                return True\n",
    "        index += 1\n",
    "    return index != len(input_list)\n",
    "\n",
    "list1 = [2, 4, 2, 6, 8]\n",
    "print(contains_odd(list1))\n",
    "\n",
    "list2 = [2, 4, 2, 6, 1]\n",
    "print(contains_odd(list2))  \n",
    "\n",
    "list3 = [2, 4, 5, 2, 6]\n",
    "print(contains_odd(list3))        "
   ]
  },
  {
   "cell_type": "code",
   "execution_count": null,
   "metadata": {},
   "outputs": [],
   "source": [
    "#Create a function that accepts a list of integers, and returns a list of bool.\n",
    "#The return list should be a \"mask\" and indicate whether the list element is odd or not.\n",
    "#(return should look like this: [True,False,False,.....])\n",
    "#return type: list\n",
    "#function name must be: is_odd\n",
    "#input parameters: input_list"
   ]
  },
  {
   "cell_type": "code",
   "execution_count": 8,
   "metadata": {},
   "outputs": [
    {
     "name": "stdout",
     "output_type": "stream",
     "text": [
      "[True, True, False, False, True, False]\n"
     ]
    }
   ],
   "source": [
    "def is_odd(input_list):\n",
    "    bool_list = []\n",
    "    for item in input_list:\n",
    "        if item % 2 == 0:\n",
    "            bool_list.append(False)\n",
    "        else:\n",
    "            bool_list.append(True)\n",
    "    return bool_list\n",
    "\n",
    "list = [1, 3, 2, 4, 5, 8]\n",
    "print(is_odd(list))"
   ]
  },
  {
   "cell_type": "code",
   "execution_count": null,
   "metadata": {},
   "outputs": [],
   "source": [
    "\n",
    "#Create a function that accpects 2 lists of integers and returns their element wise sum. <br>\n",
    "#(return should be a list)\n",
    "#return type: list\n",
    "#function name must be: element_wise_sum\n",
    "#input parameters: input_list_1, input_list_2"
   ]
  },
  {
   "cell_type": "code",
   "execution_count": 1,
   "metadata": {},
   "outputs": [
    {
     "name": "stdout",
     "output_type": "stream",
     "text": [
      "[3, 6, 9, 9]\n"
     ]
    }
   ],
   "source": [
    "# def element_wise_sum(input_list_1, input_list_2):\n",
    "#     if len(input_list_1) >= len(input_list_2):\n",
    "#         length = len(input_list_1)\n",
    "\n",
    "#         if len(input_list_1) > len(input_list_2):\n",
    "#             for i in range(0, len(input_list_1) - len(input_list_2)):\n",
    "#                 input_list_2.append(0)\n",
    "#     else:\n",
    "#         length = len(input_list_2)\n",
    "\n",
    "#         for i in range(0, len(input_list_2) - len(input_list_1)):\n",
    "#                 input_list_1.append(0)\n",
    "\n",
    "   \n",
    "#     wise_sum_list = []\n",
    "#     for i in range(0, length):\n",
    "#         wise_sum_list.append(input_list_1[i] + input_list_2[i])\n",
    "    \n",
    "#     return wise_sum_list\n",
    "\n",
    "def element_wise_sum(input_list_1, input_list_2):\n",
    "    return [input_list_1[i] + input_list_2[i] for i in range(len(input_list_1))]\n",
    "\n",
    "\n",
    "list1 = [1, 2, 3, 4]\n",
    "list2 = [2, 4, 6, 5, 9]\n",
    "print(element_wise_sum(list1, list2))\n",
    "\n"
   ]
  },
  {
   "cell_type": "code",
   "execution_count": null,
   "metadata": {},
   "outputs": [],
   "source": [
    "#Create a function that accepts a dictionary and returns its items as a list of tuples\n",
    "#(return should look like this: [(key,value),(key,value),....])\n",
    "#return type: list\n",
    "#function name must be: dict_to_list\n",
    "#input parameters: input_dict"
   ]
  },
  {
   "cell_type": "code",
   "execution_count": 27,
   "metadata": {},
   "outputs": [
    {
     "name": "stdout",
     "output_type": "stream",
     "text": [
      "[('alpha', 1), ('beta', 2), ('gamma', 3)]\n"
     ]
    }
   ],
   "source": [
    "def dict_to_list(input_dict):\n",
    "    result_list = []\n",
    "    for key in input_dict:\n",
    "        new_tuple = (key, input_dict[key])\n",
    "        result_list.append(new_tuple)\n",
    "    return result_list\n",
    "\n",
    "dict = {'alpha' : 1, 'beta' : 2, 'gamma' : 3}\n",
    "print(dict_to_list(dict))\n"
   ]
  },
  {
   "cell_type": "code",
   "execution_count": null,
   "metadata": {},
   "outputs": [],
   "source": [
    "#If all the functions are created convert this notebook into a .py file and push to your repo"
   ]
  }
 ],
 "metadata": {
  "kernelspec": {
   "display_name": "Python 3 (ipykernel)",
   "language": "python",
   "name": "python3"
  },
  "language_info": {
   "codemirror_mode": {
    "name": "ipython",
    "version": 3
   },
   "file_extension": ".py",
   "mimetype": "text/x-python",
   "name": "python",
   "nbconvert_exporter": "python",
   "pygments_lexer": "ipython3",
   "version": "3.10.10"
  },
  "vscode": {
   "interpreter": {
    "hash": "916dbcbb3f70747c44a77c7bcd40155683ae19c65e1c03b4aa3499c5328201f1"
   }
  }
 },
 "nbformat": 4,
 "nbformat_minor": 4
}
