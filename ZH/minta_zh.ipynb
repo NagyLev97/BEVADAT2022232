{
 "cells": [
  {
   "attachments": {},
   "cell_type": "markdown",
   "metadata": {},
   "source": [
    "# Minta zh, bevezetés az adattudományba"
   ]
  },
  {
   "attachments": {},
   "cell_type": "markdown",
   "metadata": {},
   "source": [
    "## 1. feladat\n",
    "1.1 Olvass be az iris.csv-t egy dataframe-be  \n",
    "1.2 Módosítsd a dataframe oszlopai nevét, úgy hogy a pont helyett aláhúzás legyen Pl.: sepal.length --> sepal_length  \n",
    "1.3 Dobd el azokat a sorokat, amikben van NaN  \n",
    "1.4 Irattasd ki a 'variety' oszlop különböző értékeit. Minden érték csak egyszer szerepeljen  \n",
    "1.5 Vizsgáld meg milyen korreláció van a Dataframe egyes oszolopai között. (df.corr) Irasd ki a legnagyobb korrelációt két különböző oszlop között  \n",
    "1.6 Módosítsd a 'variety' értékét számokra. Setosa --> 0, Versicolor --> 1, Virginica --> 2  \n",
    "1.7 Dobd el 'sepal.width' oszlopot  \n",
    "1.8 Jelenítsd meg egy kördiagramon a 'variety' eloszlását, illetve jelenítsd meg labelben az osztályok nevét is.\n",
    "1.9 A petal_length és petal_width-et jeleníts meg egy scatter plot-on. A osztályonként térjenek el a színek. Az X tengelyen a pental_width, az Y tengelyen pedig a pental_width jelenjen meg.\n",
    "\n",
    "(numpy, pandas, matplotlib)"
   ]
  },
  {
   "cell_type": "code",
   "execution_count": 2,
   "metadata": {},
   "outputs": [],
   "source": [
    "import numpy as np\n",
    "import pandas as pd \n",
    "from sklearn.datasets import load_iris"
   ]
  },
  {
   "cell_type": "code",
   "execution_count": 18,
   "metadata": {},
   "outputs": [
    {
     "name": "stdout",
     "output_type": "stream",
     "text": [
      "<bound method Series.unique of 0         Iris-setosa\n",
      "1         Iris-setosa\n",
      "2         Iris-setosa\n",
      "3         Iris-setosa\n",
      "4         Iris-setosa\n",
      "            ...      \n",
      "145    Iris-virginica\n",
      "146    Iris-virginica\n",
      "147    Iris-virginica\n",
      "148    Iris-virginica\n",
      "149    Iris-virginica\n",
      "Name: Species, Length: 150, dtype: object>\n",
      "PetalLengthCm  SepalWidthCm    -0.420516\n",
      "SepalWidthCm   Id              -0.397729\n",
      "PetalWidthCm   SepalWidthCm    -0.356544\n",
      "SepalLengthCm  SepalWidthCm    -0.109369\n",
      "Id             SepalLengthCm    0.716676\n",
      "PetalWidthCm   SepalLengthCm    0.817954\n",
      "SepalLengthCm  PetalLengthCm    0.871754\n",
      "Id             PetalLengthCm    0.882747\n",
      "PetalWidthCm   Id               0.899759\n",
      "PetalLengthCm  PetalWidthCm     0.962757\n",
      "Id             Id               1.000000\n",
      "dtype: float64\n"
     ]
    }
   ],
   "source": [
    "# 1.1\n",
    "df_data = pd.read_csv('Iris.csv')\n",
    "df_data.head()\n",
    "\n",
    "# 1.2\n",
    "df = df_data.rename(columns=lambda x: x.replace('.', '_'))\n",
    "\n",
    "# 1.3\n",
    "df.dropna()\n",
    "\n",
    "# 1.4\n",
    "print(df['Species'].unique)\n",
    "\n",
    "# 1.5\n",
    "corr_matrix = df.corr(numeric_only=True)\n",
    "max_corr = corr_matrix.stack().sort_values().drop_duplicates()\n",
    "#max_corr = max_corr[max_corr < 1.0].head(1)\n",
    "\n",
    "print(max_corr)"
   ]
  },
  {
   "attachments": {},
   "cell_type": "markdown",
   "metadata": {},
   "source": [
    "## 2. feladat\n",
    "2.1 A 'variety' legyen a cél függvény, a maradék oszlopok pedig a tanító halmaz  \n",
    "2.2 Spliteld szét a dataframe-t. A tanító adathalmaz legyen 70%, a test pedig 30%. A random state pedig legyen 42  \n",
    "\n",
    "(sklearn)"
   ]
  },
  {
   "attachments": {},
   "cell_type": "markdown",
   "metadata": {},
   "source": [
    "## 3. feladat\n",
    "3.1 Taníts fel egy decision tree-t  \n",
    "3.2 Írtattasd ki a modell pontosságát  \n",
    "3.3 Jelenítsd meg a decision tree-t matplotlib segítségével  \n",
    "\n",
    "(sklearn)"
   ]
  },
  {
   "attachments": {},
   "cell_type": "markdown",
   "metadata": {},
   "source": [
    "## 4. feladat \n",
    "4.1 Értékeld a tanításodat 5 mondatban. Pl.: mivel lehet pontosítani a modellt, milyen más adatfeldolgozást lehetne csinálni."
   ]
  }
 ],
 "metadata": {
  "kernelspec": {
   "display_name": "Python 3",
   "language": "python",
   "name": "python3"
  },
  "language_info": {
   "codemirror_mode": {
    "name": "ipython",
    "version": 3
   },
   "file_extension": ".py",
   "mimetype": "text/x-python",
   "name": "python",
   "nbconvert_exporter": "python",
   "pygments_lexer": "ipython3",
   "version": "3.10.11"
  },
  "orig_nbformat": 4
 },
 "nbformat": 4,
 "nbformat_minor": 2
}
